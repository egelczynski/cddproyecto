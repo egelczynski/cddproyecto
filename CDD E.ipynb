{
 "cells": [
  {
   "cell_type": "code",
   "execution_count": 1,
   "id": "e9ef817e",
   "metadata": {},
   "outputs": [],
   "source": [
    "import pandas as pd\n",
    "import numpy as np\n",
    "from matplotlib import pyplot as plt"
   ]
  },
  {
   "cell_type": "code",
   "execution_count": 2,
   "id": "9d31df78",
   "metadata": {},
   "outputs": [
    {
     "name": "stderr",
     "output_type": "stream",
     "text": [
      "C:\\Users\\59899\\anaconda33\\lib\\site-packages\\IPython\\core\\interactiveshell.py:3444: DtypeWarning: Columns (1) have mixed types.Specify dtype option on import or set low_memory=False.\n",
      "  exec(code_obj, self.user_global_ns, self.user_ns)\n"
     ]
    }
   ],
   "source": [
    "data = pd.read_csv(r\"C:\\Users\\59899\\Desktop\\Intro a ciencia de datos\\um-data-science-main\\proyecto_final\\data.csv\")\n",
    "edit = data.copy()"
   ]
  },
  {
   "cell_type": "code",
   "execution_count": 3,
   "id": "8a0908e7",
   "metadata": {
    "scrolled": true
   },
   "outputs": [
    {
     "data": {
      "text/html": [
       "<div>\n",
       "<style scoped>\n",
       "    .dataframe tbody tr th:only-of-type {\n",
       "        vertical-align: middle;\n",
       "    }\n",
       "\n",
       "    .dataframe tbody tr th {\n",
       "        vertical-align: top;\n",
       "    }\n",
       "\n",
       "    .dataframe thead th {\n",
       "        text-align: right;\n",
       "    }\n",
       "</style>\n",
       "<table border=\"1\" class=\"dataframe\">\n",
       "  <thead>\n",
       "    <tr style=\"text-align: right;\">\n",
       "      <th></th>\n",
       "      <th>nombre_inmueble</th>\n",
       "      <th>aviso</th>\n",
       "      <th>precio</th>\n",
       "      <th>superficie</th>\n",
       "      <th>tipo</th>\n",
       "      <th>dormitorios</th>\n",
       "      <th>direccion</th>\n",
       "      <th>barrio</th>\n",
       "      <th>negocio</th>\n",
       "      <th>fecha</th>\n",
       "    </tr>\n",
       "  </thead>\n",
       "  <tbody>\n",
       "    <tr>\n",
       "      <th>0</th>\n",
       "      <td>CASAS-ALQUILER-TEMPORAL-PUNTA-COLORADA-034</td>\n",
       "      <td>16579724</td>\n",
       "      <td>U$S 1.750</td>\n",
       "      <td>600 Mts</td>\n",
       "      <td>Casa</td>\n",
       "      <td>2 dormitorios</td>\n",
       "      <td>Av. Primera entre Rambla Costanera y 8 Guazubi...</td>\n",
       "      <td>Punta Colorada</td>\n",
       "      <td>Alquiler temporario</td>\n",
       "      <td>2021-01-03 00:00:00</td>\n",
       "    </tr>\n",
       "    <tr>\n",
       "      <th>1</th>\n",
       "      <td>Alquilo Apto. 2 Dorm. Vista , 2 da Enero y Mar...</td>\n",
       "      <td>16735528</td>\n",
       "      <td>$U 800</td>\n",
       "      <td>NaN</td>\n",
       "      <td>Apartamento</td>\n",
       "      <td>2 dormitorios</td>\n",
       "      <td>Mi hijo el doctor y En Familia</td>\n",
       "      <td>Punta Del Este</td>\n",
       "      <td>Alquiler temporario</td>\n",
       "      <td>2021-01-03 00:00:00</td>\n",
       "    </tr>\n",
       "    <tr>\n",
       "      <th>2</th>\n",
       "      <td>Casa en Cerro del Burro \"MIRADOR II\"</td>\n",
       "      <td>13795860</td>\n",
       "      <td>U$S 100.000</td>\n",
       "      <td>300 Mts</td>\n",
       "      <td>Casa</td>\n",
       "      <td>1 dormitorio</td>\n",
       "      <td>... y Cerro del burro</td>\n",
       "      <td>Piriápolis</td>\n",
       "      <td>Venta</td>\n",
       "      <td>2021-01-03 00:00:00</td>\n",
       "    </tr>\n",
       "    <tr>\n",
       "      <th>3</th>\n",
       "      <td>Oficina Alquiler World Trade Center -WTC- Poci...</td>\n",
       "      <td>15655688</td>\n",
       "      <td>U$S 1.600</td>\n",
       "      <td>NaN</td>\n",
       "      <td>Oficina</td>\n",
       "      <td>NaN</td>\n",
       "      <td>... y Buceo</td>\n",
       "      <td>Buceo</td>\n",
       "      <td>Alquiler</td>\n",
       "      <td>2021-01-03 00:00:00</td>\n",
       "    </tr>\n",
       "    <tr>\n",
       "      <th>4</th>\n",
       "      <td>Terreno en Punta Colorada</td>\n",
       "      <td>12805785</td>\n",
       "      <td>U$S 67.000</td>\n",
       "      <td>615 Mts</td>\n",
       "      <td>Terreno</td>\n",
       "      <td>NaN</td>\n",
       "      <td>TE201282 y Punta colorada</td>\n",
       "      <td>Punta Colorada</td>\n",
       "      <td>Venta</td>\n",
       "      <td>2021-01-03 00:00:00</td>\n",
       "    </tr>\n",
       "  </tbody>\n",
       "</table>\n",
       "</div>"
      ],
      "text/plain": [
       "                                     nombre_inmueble     aviso        precio  \\\n",
       "0         CASAS-ALQUILER-TEMPORAL-PUNTA-COLORADA-034  16579724     U$S 1.750   \n",
       "1  Alquilo Apto. 2 Dorm. Vista , 2 da Enero y Mar...  16735528        $U 800   \n",
       "2               Casa en Cerro del Burro \"MIRADOR II\"  13795860   U$S 100.000   \n",
       "3  Oficina Alquiler World Trade Center -WTC- Poci...  15655688     U$S 1.600   \n",
       "4                          Terreno en Punta Colorada  12805785    U$S 67.000   \n",
       "\n",
       "  superficie         tipo    dormitorios  \\\n",
       "0    600 Mts         Casa  2 dormitorios   \n",
       "1        NaN  Apartamento  2 dormitorios   \n",
       "2    300 Mts         Casa   1 dormitorio   \n",
       "3        NaN      Oficina            NaN   \n",
       "4    615 Mts      Terreno            NaN   \n",
       "\n",
       "                                           direccion          barrio  \\\n",
       "0  Av. Primera entre Rambla Costanera y 8 Guazubi...  Punta Colorada   \n",
       "1                     Mi hijo el doctor y En Familia  Punta Del Este   \n",
       "2                              ... y Cerro del burro      Piriápolis   \n",
       "3                                        ... y Buceo           Buceo   \n",
       "4                          TE201282 y Punta colorada  Punta Colorada   \n",
       "\n",
       "               negocio                fecha  \n",
       "0  Alquiler temporario  2021-01-03 00:00:00  \n",
       "1  Alquiler temporario  2021-01-03 00:00:00  \n",
       "2                Venta  2021-01-03 00:00:00  \n",
       "3             Alquiler  2021-01-03 00:00:00  \n",
       "4                Venta  2021-01-03 00:00:00  "
      ]
     },
     "execution_count": 3,
     "metadata": {},
     "output_type": "execute_result"
    }
   ],
   "source": [
    "data.head(5)"
   ]
  },
  {
   "cell_type": "code",
   "execution_count": 30,
   "id": "fe36d45a",
   "metadata": {},
   "outputs": [
    {
     "name": "stdout",
     "output_type": "stream",
     "text": [
      "<class 'pandas.core.frame.DataFrame'>\n",
      "RangeIndex: 96583 entries, 0 to 96582\n",
      "Data columns (total 10 columns):\n",
      " #   Column           Non-Null Count  Dtype \n",
      "---  ------           --------------  ----- \n",
      " 0   nombre_inmueble  96462 non-null  object\n",
      " 1   aviso            96583 non-null  object\n",
      " 2   precio           96462 non-null  object\n",
      " 3   superficie       81049 non-null  object\n",
      " 4   tipo             96462 non-null  object\n",
      " 5   dormitorios      75070 non-null  object\n",
      " 6   direccion        96128 non-null  object\n",
      " 7   barrio           96462 non-null  object\n",
      " 8   negocio          96462 non-null  object\n",
      " 9   fecha            96583 non-null  object\n",
      "dtypes: object(10)\n",
      "memory usage: 7.4+ MB\n"
     ]
    }
   ],
   "source": [
    "data.info()"
   ]
  },
  {
   "cell_type": "markdown",
   "id": "fc67a156",
   "metadata": {},
   "source": [
    "Clasificación por:\n",
    "    - tipo de finca\n",
    "    - tipo de negocio: afecta el precio (alquileres mensuales)"
   ]
  },
  {
   "cell_type": "code",
   "execution_count": 28,
   "id": "67b71f4d",
   "metadata": {
    "scrolled": true
   },
   "outputs": [
    {
     "data": {
      "text/plain": [
       "Venta                  66165\n",
       "Alquiler               15553\n",
       "Alquiler temporario    14744\n",
       "Name: negocio, dtype: int64"
      ]
     },
     "execution_count": 28,
     "metadata": {},
     "output_type": "execute_result"
    }
   ],
   "source": [
    "data[\"negocio\"].value_counts()"
   ]
  },
  {
   "cell_type": "code",
   "execution_count": 29,
   "id": "e6b85c05",
   "metadata": {},
   "outputs": [
    {
     "data": {
      "text/plain": [
       "Apartamento    45098\n",
       "Casa           29972\n",
       "Terreno        11076\n",
       "Oficina         4455\n",
       "Local           3944\n",
       "Campo           1375\n",
       "Comercio         202\n",
       "Edificio         157\n",
       "Garage           111\n",
       "Piezas            66\n",
       "Otro               6\n",
       "Name: tipo, dtype: int64"
      ]
     },
     "execution_count": 29,
     "metadata": {},
     "output_type": "execute_result"
    }
   ],
   "source": [
    "data[\"tipo\"].value_counts()"
   ]
  },
  {
   "cell_type": "code",
   "execution_count": 25,
   "id": "1fd64456",
   "metadata": {},
   "outputs": [
    {
     "data": {
      "text/plain": [
       "(455, 96128)"
      ]
     },
     "execution_count": 25,
     "metadata": {},
     "output_type": "execute_result"
    }
   ],
   "source": [
    "data[\"direccion\"].isna().sum(), data[\"direccion\"].count() #Conteo de direcciones"
   ]
  },
  {
   "cell_type": "code",
   "execution_count": 26,
   "id": "d84bc54f",
   "metadata": {},
   "outputs": [
    {
     "data": {
      "text/plain": [
       "(121, 96462)"
      ]
     },
     "execution_count": 26,
     "metadata": {},
     "output_type": "execute_result"
    }
   ],
   "source": [
    "data[\"barrio\"].isna().sum(), data[\"barrio\"].count() #Conteo de barrio, posibilidad de imputar direcciones faltantes"
   ]
  },
  {
   "cell_type": "code",
   "execution_count": 27,
   "id": "fdbef780",
   "metadata": {},
   "outputs": [
    {
     "data": {
      "text/plain": [
       "121"
      ]
     },
     "execution_count": 27,
     "metadata": {},
     "output_type": "execute_result"
    }
   ],
   "source": [
    "data[\"precio\"].isna().sum()\n",
    "#Si el estudio es sobre oportunidad de inversión, estos datos deben eliminarse"
   ]
  },
  {
   "cell_type": "code",
   "execution_count": 33,
   "id": "d0cee2f8",
   "metadata": {},
   "outputs": [
    {
     "data": {
      "text/plain": [
       "0        2021-01-03 00:00:00\n",
       "1        2021-01-03 00:00:00\n",
       "2        2021-01-03 00:00:00\n",
       "3        2021-01-03 00:00:00\n",
       "4        2021-01-03 00:00:00\n",
       "                ...         \n",
       "96578    2021-12-07 00:00:00\n",
       "96579    2021-12-07 00:00:00\n",
       "96580    2021-12-07 00:00:00\n",
       "96581    2021-12-07 00:00:00\n",
       "96582    2021-12-07 00:00:00\n",
       "Name: fecha, Length: 96583, dtype: object"
      ]
     },
     "execution_count": 33,
     "metadata": {},
     "output_type": "execute_result"
    }
   ],
   "source": [
    "data[\"fecha\"] #Irrelevante para el EDA, eliminable"
   ]
  },
  {
   "cell_type": "code",
   "execution_count": 34,
   "id": "a478db5b",
   "metadata": {
    "scrolled": true
   },
   "outputs": [
    {
     "data": {
      "text/plain": [
       "0        16579724\n",
       "1        16735528\n",
       "2        13795860\n",
       "3        15655688\n",
       "4        12805785\n",
       "           ...   \n",
       "96578    18610881\n",
       "96579    17710617\n",
       "96580    12804460\n",
       "96581    18611010\n",
       "96582    18610480\n",
       "Name: aviso, Length: 96583, dtype: object"
      ]
     },
     "execution_count": 34,
     "metadata": {},
     "output_type": "execute_result"
    }
   ],
   "source": [
    "data[\"aviso\"] #Irrelevante para el modelo, eliminable provisoriamente"
   ]
  },
  {
   "cell_type": "code",
   "execution_count": 4,
   "id": "ad48e9b8",
   "metadata": {},
   "outputs": [],
   "source": [
    "municipios = {\"B\": [\"Aguada\", \"parte de La Comercial\", \"Tres Cruces\", \"Cordón\", \"Parque Rodó\", \"Palermo\", \"Sur\", \"Ciudad Vieja\", \"Centro\"],\n",
    "\"E\": [\"Unión\",\"Malvín Norte\",\"Malvín Nuevo\",\"Las Canteras\",\"Carrasco Norte\",\"Carrasco\",\"Punta Gorda\",\"Malvín\",\"Buceo\",\"La Blanqueada\"],\n",
    "\"C\": [\"Prado\", \"Aires Puros\", \"Atahualpa\", \"Nueva Savona\", \"Brazo Oriental\", \"Mercado Modelo\", \"Bolívar\", \"Larrañaga\", \"Jacinto Vera\", \"La Figurita\", \"La Comercial\", \"Villa Muñoz\", \"Retiro\", \"Goes\", \"Aguada\", \"una parte del Puerto\", \"Capurro\", \"Bella Vista\", \"Reducto\"],\n",
    "\"CH\": [\"La Blanqueada\", \"Parque Batlle\", \"Villa Dolores\", \"Pocitos\", \"Punta Carretas\", \"Tres Cruces\", \"Larrañaga\", \"Buceo\"]}"
   ]
  },
  {
   "cell_type": "code",
   "execution_count": 5,
   "id": "0f8024ca",
   "metadata": {},
   "outputs": [],
   "source": [
    "barrios_ok = []\n",
    "for value in list(municipios.values()):\n",
    "    barrios_ok.extend(value)"
   ]
  },
  {
   "cell_type": "code",
   "execution_count": 6,
   "id": "0021a1d6",
   "metadata": {},
   "outputs": [],
   "source": [
    "for index in edit.index:\n",
    "    if edit[\"barrio\"][index] not in barrios_ok:\n",
    "        edit.drop(index, axis=0, inplace=True)\n",
    "# Filtrado por municipio"
   ]
  },
  {
   "cell_type": "code",
   "execution_count": 28,
   "id": "0829d076",
   "metadata": {},
   "outputs": [],
   "source": [
    "edit.drop_duplicates(\"aviso\")\n",
    "edit.reset_index(drop=True, inplace=True)\n",
    "#Eliminación de avisos repetidos, reseteo de índice"
   ]
  },
  {
   "cell_type": "code",
   "execution_count": 61,
   "id": "39b8e6a0",
   "metadata": {},
   "outputs": [
    {
     "data": {
      "text/html": [
       "<div>\n",
       "<style scoped>\n",
       "    .dataframe tbody tr th:only-of-type {\n",
       "        vertical-align: middle;\n",
       "    }\n",
       "\n",
       "    .dataframe tbody tr th {\n",
       "        vertical-align: top;\n",
       "    }\n",
       "\n",
       "    .dataframe thead th {\n",
       "        text-align: right;\n",
       "    }\n",
       "</style>\n",
       "<table border=\"1\" class=\"dataframe\">\n",
       "  <thead>\n",
       "    <tr style=\"text-align: right;\">\n",
       "      <th></th>\n",
       "      <th>nombre_inmueble</th>\n",
       "      <th>aviso</th>\n",
       "      <th>precio</th>\n",
       "      <th>superficie</th>\n",
       "      <th>tipo</th>\n",
       "      <th>dormitorios</th>\n",
       "      <th>direccion</th>\n",
       "      <th>barrio</th>\n",
       "      <th>negocio</th>\n",
       "      <th>fecha</th>\n",
       "      <th>long</th>\n",
       "      <th>lat</th>\n",
       "    </tr>\n",
       "  </thead>\n",
       "  <tbody>\n",
       "    <tr>\n",
       "      <th>0</th>\n",
       "      <td>Oficina Alquiler World Trade Center -WTC- Poci...</td>\n",
       "      <td>15655688</td>\n",
       "      <td>U$S 1.600</td>\n",
       "      <td>NaN</td>\n",
       "      <td>Oficina</td>\n",
       "      <td>NaN</td>\n",
       "      <td>... y Buceo</td>\n",
       "      <td>Buceo</td>\n",
       "      <td>Alquiler</td>\n",
       "      <td>2021-01-03 00:00:00</td>\n",
       "      <td>-56.128175</td>\n",
       "      <td>-34.898105</td>\n",
       "    </tr>\n",
       "    <tr>\n",
       "      <th>1</th>\n",
       "      <td>Oficina Sosa - Local Con Vivienda Alquilado En...</td>\n",
       "      <td>16224275</td>\n",
       "      <td>U$S 125.000</td>\n",
       "      <td>NaN</td>\n",
       "      <td>Local</td>\n",
       "      <td>NaN</td>\n",
       "      <td>Oficina Sosa - Local Con Vivienda Alquilado En...</td>\n",
       "      <td>Brazo Oriental</td>\n",
       "      <td>Venta</td>\n",
       "      <td>2021-01-03 00:00:00</td>\n",
       "      <td>-56.178411</td>\n",
       "      <td>-34.865029</td>\n",
       "    </tr>\n",
       "    <tr>\n",
       "      <th>2</th>\n",
       "      <td>Excelente Local Amplio - Gran Sótano Centro</td>\n",
       "      <td>16436745</td>\n",
       "      <td>$U 25.000</td>\n",
       "      <td>NaN</td>\n",
       "      <td>Local</td>\n",
       "      <td>NaN</td>\n",
       "      <td>Soriano y Julio Herrera Y Obes</td>\n",
       "      <td>Centro</td>\n",
       "      <td>Alquiler</td>\n",
       "      <td>2021-01-03 00:00:00</td>\n",
       "      <td></td>\n",
       "      <td></td>\n",
       "    </tr>\n",
       "    <tr>\n",
       "      <th>3</th>\n",
       "      <td>Terreno en el Centro</td>\n",
       "      <td>16703708</td>\n",
       "      <td>U$S 220.000</td>\n",
       "      <td>442 Mts</td>\n",
       "      <td>Terreno</td>\n",
       "      <td>NaN</td>\n",
       "      <td>Wilson Ferreira Aldunate y Durazno</td>\n",
       "      <td>Centro</td>\n",
       "      <td>Venta</td>\n",
       "      <td>2021-01-03 00:00:00</td>\n",
       "      <td></td>\n",
       "      <td></td>\n",
       "    </tr>\n",
       "    <tr>\n",
       "      <th>4</th>\n",
       "      <td>Impecable apartamento en zona privilegiada.</td>\n",
       "      <td>12452693</td>\n",
       "      <td>U$S 380.000</td>\n",
       "      <td>130 Mts</td>\n",
       "      <td>Apartamento</td>\n",
       "      <td>3 dormitorios</td>\n",
       "      <td>Ramon Fernandez y Bulevar Artigas</td>\n",
       "      <td>Punta Carretas</td>\n",
       "      <td>Venta</td>\n",
       "      <td>2021-01-03 00:00:00</td>\n",
       "      <td>-56.161496</td>\n",
       "      <td>-34.925531</td>\n",
       "    </tr>\n",
       "    <tr>\n",
       "      <th>...</th>\n",
       "      <td>...</td>\n",
       "      <td>...</td>\n",
       "      <td>...</td>\n",
       "      <td>...</td>\n",
       "      <td>...</td>\n",
       "      <td>...</td>\n",
       "      <td>...</td>\n",
       "      <td>...</td>\n",
       "      <td>...</td>\n",
       "      <td>...</td>\n",
       "      <td>...</td>\n",
       "      <td>...</td>\n",
       "    </tr>\n",
       "    <tr>\n",
       "      <th>32276</th>\n",
       "      <td>Gran Casa en Calle Exclusiva, Punta Carretas</td>\n",
       "      <td>18626950</td>\n",
       "      <td>U$S 740.000</td>\n",
       "      <td>NaN</td>\n",
       "      <td>Casa</td>\n",
       "      <td>más de 4 dormitorios</td>\n",
       "      <td>Baez y Montero</td>\n",
       "      <td>Punta Carretas</td>\n",
       "      <td>Venta</td>\n",
       "      <td>2021-12-07 00:00:00</td>\n",
       "      <td></td>\n",
       "      <td></td>\n",
       "    </tr>\n",
       "    <tr>\n",
       "      <th>32277</th>\n",
       "      <td>Hermoso Apartamento en Pocitos</td>\n",
       "      <td>18245104</td>\n",
       "      <td>$U 21.000</td>\n",
       "      <td>NaN</td>\n",
       "      <td>Apartamento</td>\n",
       "      <td>1 dormitorio</td>\n",
       "      <td>Scoseria y Roque Graseras</td>\n",
       "      <td>Pocitos</td>\n",
       "      <td>Alquiler</td>\n",
       "      <td>2021-12-07 00:00:00</td>\n",
       "      <td></td>\n",
       "      <td></td>\n",
       "    </tr>\n",
       "    <tr>\n",
       "      <th>32278</th>\n",
       "      <td>Town Park, Con Renta,amplio,exonera imp,no pag...</td>\n",
       "      <td>15133380</td>\n",
       "      <td>U$S 160.000</td>\n",
       "      <td>NaN</td>\n",
       "      <td>Apartamento</td>\n",
       "      <td>3 dormitorios</td>\n",
       "      <td>Millan y Instrucciones</td>\n",
       "      <td>Prado</td>\n",
       "      <td>Venta</td>\n",
       "      <td>2021-12-07 00:00:00</td>\n",
       "      <td></td>\n",
       "      <td></td>\n",
       "    </tr>\n",
       "    <tr>\n",
       "      <th>32279</th>\n",
       "      <td>VENDE APARTAMENTO 1 DORMITORIO - PARA CONSULTO...</td>\n",
       "      <td>17985809</td>\n",
       "      <td>U$S 87.000</td>\n",
       "      <td>39 Mts</td>\n",
       "      <td>Apartamento</td>\n",
       "      <td>1 dormitorio</td>\n",
       "      <td>ITALIA y BRITO FORESTI</td>\n",
       "      <td>Parque Batlle</td>\n",
       "      <td>Venta</td>\n",
       "      <td>2021-12-07 00:00:00</td>\n",
       "      <td></td>\n",
       "      <td></td>\n",
       "    </tr>\n",
       "    <tr>\n",
       "      <th>32280</th>\n",
       "      <td>Alquila apartamento Prado 1 dormitorio luminos...</td>\n",
       "      <td>18639726</td>\n",
       "      <td>$U 13.000</td>\n",
       "      <td>NaN</td>\n",
       "      <td>Apartamento</td>\n",
       "      <td>1 dormitorio</td>\n",
       "      <td>Av. Islas Canarias y Camino Castro</td>\n",
       "      <td>Prado</td>\n",
       "      <td>Alquiler</td>\n",
       "      <td>2021-12-07 00:00:00</td>\n",
       "      <td></td>\n",
       "      <td></td>\n",
       "    </tr>\n",
       "  </tbody>\n",
       "</table>\n",
       "<p>32281 rows × 12 columns</p>\n",
       "</div>"
      ],
      "text/plain": [
       "                                         nombre_inmueble     aviso  \\\n",
       "0      Oficina Alquiler World Trade Center -WTC- Poci...  15655688   \n",
       "1      Oficina Sosa - Local Con Vivienda Alquilado En...  16224275   \n",
       "2            Excelente Local Amplio - Gran Sótano Centro  16436745   \n",
       "3                                   Terreno en el Centro  16703708   \n",
       "4            Impecable apartamento en zona privilegiada.  12452693   \n",
       "...                                                  ...       ...   \n",
       "32276       Gran Casa en Calle Exclusiva, Punta Carretas  18626950   \n",
       "32277                     Hermoso Apartamento en Pocitos  18245104   \n",
       "32278  Town Park, Con Renta,amplio,exonera imp,no pag...  15133380   \n",
       "32279  VENDE APARTAMENTO 1 DORMITORIO - PARA CONSULTO...  17985809   \n",
       "32280  Alquila apartamento Prado 1 dormitorio luminos...  18639726   \n",
       "\n",
       "             precio superficie         tipo           dormitorios  \\\n",
       "0         U$S 1.600        NaN      Oficina                   NaN   \n",
       "1       U$S 125.000        NaN        Local                   NaN   \n",
       "2         $U 25.000        NaN        Local                   NaN   \n",
       "3       U$S 220.000    442 Mts      Terreno                   NaN   \n",
       "4       U$S 380.000    130 Mts  Apartamento         3 dormitorios   \n",
       "...             ...        ...          ...                   ...   \n",
       "32276   U$S 740.000        NaN         Casa  más de 4 dormitorios   \n",
       "32277     $U 21.000        NaN  Apartamento          1 dormitorio   \n",
       "32278   U$S 160.000        NaN  Apartamento         3 dormitorios   \n",
       "32279    U$S 87.000     39 Mts  Apartamento          1 dormitorio   \n",
       "32280     $U 13.000        NaN  Apartamento          1 dormitorio   \n",
       "\n",
       "                                               direccion          barrio  \\\n",
       "0                                            ... y Buceo           Buceo   \n",
       "1      Oficina Sosa - Local Con Vivienda Alquilado En...  Brazo Oriental   \n",
       "2                         Soriano y Julio Herrera Y Obes          Centro   \n",
       "3                     Wilson Ferreira Aldunate y Durazno          Centro   \n",
       "4                      Ramon Fernandez y Bulevar Artigas  Punta Carretas   \n",
       "...                                                  ...             ...   \n",
       "32276                                     Baez y Montero  Punta Carretas   \n",
       "32277                          Scoseria y Roque Graseras         Pocitos   \n",
       "32278                             Millan y Instrucciones           Prado   \n",
       "32279                             ITALIA y BRITO FORESTI   Parque Batlle   \n",
       "32280                 Av. Islas Canarias y Camino Castro           Prado   \n",
       "\n",
       "        negocio                fecha       long        lat  \n",
       "0      Alquiler  2021-01-03 00:00:00 -56.128175 -34.898105  \n",
       "1         Venta  2021-01-03 00:00:00 -56.178411 -34.865029  \n",
       "2      Alquiler  2021-01-03 00:00:00                        \n",
       "3         Venta  2021-01-03 00:00:00                        \n",
       "4         Venta  2021-01-03 00:00:00 -56.161496 -34.925531  \n",
       "...         ...                  ...        ...        ...  \n",
       "32276     Venta  2021-12-07 00:00:00                        \n",
       "32277  Alquiler  2021-12-07 00:00:00                        \n",
       "32278     Venta  2021-12-07 00:00:00                        \n",
       "32279     Venta  2021-12-07 00:00:00                        \n",
       "32280  Alquiler  2021-12-07 00:00:00                        \n",
       "\n",
       "[32281 rows x 12 columns]"
      ]
     },
     "execution_count": 61,
     "metadata": {},
     "output_type": "execute_result"
    }
   ],
   "source": [
    "edit"
   ]
  }
 ],
 "metadata": {
  "kernelspec": {
   "display_name": "Python 3 (ipykernel)",
   "language": "python",
   "name": "python3"
  },
  "language_info": {
   "codemirror_mode": {
    "name": "ipython",
    "version": 3
   },
   "file_extension": ".py",
   "mimetype": "text/x-python",
   "name": "python",
   "nbconvert_exporter": "python",
   "pygments_lexer": "ipython3",
   "version": "3.9.7"
  }
 },
 "nbformat": 4,
 "nbformat_minor": 5
}
