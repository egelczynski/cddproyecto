{
 "cells": [
  {
   "cell_type": "code",
   "execution_count": 16,
   "id": "e9ef817e",
   "metadata": {},
   "outputs": [],
   "source": [
    "import pandas as pd\n",
    "import numpy as np\n",
    "from matplotlib import pyplot as plt\n",
    "import sklearn.preprocessing"
   ]
  },
  {
   "cell_type": "code",
   "execution_count": 35,
   "id": "9d31df78",
   "metadata": {},
   "outputs": [
    {
     "name": "stderr",
     "output_type": "stream",
     "text": [
      "C:\\Users\\59899\\anaconda33\\lib\\site-packages\\IPython\\core\\interactiveshell.py:3444: DtypeWarning: Columns (1) have mixed types.Specify dtype option on import or set low_memory=False.\n",
      "  exec(code_obj, self.user_global_ns, self.user_ns)\n"
     ]
    }
   ],
   "source": [
    "data = pd.read_csv(r\"C:\\Users\\59899\\Desktop\\Intro a ciencia de datos\\um-data-science-main\\proyecto_final\\data.csv\")\n",
    "edit = data.copy()"
   ]
  },
  {
   "cell_type": "code",
   "execution_count": 19,
   "id": "8a0908e7",
   "metadata": {
    "scrolled": true
   },
   "outputs": [
    {
     "data": {
      "text/html": [
       "<div>\n",
       "<style scoped>\n",
       "    .dataframe tbody tr th:only-of-type {\n",
       "        vertical-align: middle;\n",
       "    }\n",
       "\n",
       "    .dataframe tbody tr th {\n",
       "        vertical-align: top;\n",
       "    }\n",
       "\n",
       "    .dataframe thead th {\n",
       "        text-align: right;\n",
       "    }\n",
       "</style>\n",
       "<table border=\"1\" class=\"dataframe\">\n",
       "  <thead>\n",
       "    <tr style=\"text-align: right;\">\n",
       "      <th></th>\n",
       "      <th>nombre_inmueble</th>\n",
       "      <th>aviso</th>\n",
       "      <th>precio</th>\n",
       "      <th>superficie</th>\n",
       "      <th>tipo</th>\n",
       "      <th>dormitorios</th>\n",
       "      <th>direccion</th>\n",
       "      <th>barrio</th>\n",
       "      <th>negocio</th>\n",
       "      <th>fecha</th>\n",
       "    </tr>\n",
       "  </thead>\n",
       "  <tbody>\n",
       "    <tr>\n",
       "      <th>0</th>\n",
       "      <td>CASAS-ALQUILER-TEMPORAL-PUNTA-COLORADA-034</td>\n",
       "      <td>16579724</td>\n",
       "      <td>U$S 1.750</td>\n",
       "      <td>600 Mts</td>\n",
       "      <td>Casa</td>\n",
       "      <td>2 dormitorios</td>\n",
       "      <td>Av. Primera entre Rambla Costanera y 8 Guazubi...</td>\n",
       "      <td>Punta Colorada</td>\n",
       "      <td>Alquiler temporario</td>\n",
       "      <td>2021-01-03 00:00:00</td>\n",
       "    </tr>\n",
       "    <tr>\n",
       "      <th>1</th>\n",
       "      <td>Alquilo Apto. 2 Dorm. Vista , 2 da Enero y Mar...</td>\n",
       "      <td>16735528</td>\n",
       "      <td>$U 800</td>\n",
       "      <td>NaN</td>\n",
       "      <td>Apartamento</td>\n",
       "      <td>2 dormitorios</td>\n",
       "      <td>Mi hijo el doctor y En Familia</td>\n",
       "      <td>Punta Del Este</td>\n",
       "      <td>Alquiler temporario</td>\n",
       "      <td>2021-01-03 00:00:00</td>\n",
       "    </tr>\n",
       "    <tr>\n",
       "      <th>2</th>\n",
       "      <td>Casa en Cerro del Burro \"MIRADOR II\"</td>\n",
       "      <td>13795860</td>\n",
       "      <td>U$S 100.000</td>\n",
       "      <td>300 Mts</td>\n",
       "      <td>Casa</td>\n",
       "      <td>1 dormitorio</td>\n",
       "      <td>... y Cerro del burro</td>\n",
       "      <td>Piriápolis</td>\n",
       "      <td>Venta</td>\n",
       "      <td>2021-01-03 00:00:00</td>\n",
       "    </tr>\n",
       "    <tr>\n",
       "      <th>3</th>\n",
       "      <td>Oficina Alquiler World Trade Center -WTC- Poci...</td>\n",
       "      <td>15655688</td>\n",
       "      <td>U$S 1.600</td>\n",
       "      <td>NaN</td>\n",
       "      <td>Oficina</td>\n",
       "      <td>NaN</td>\n",
       "      <td>... y Buceo</td>\n",
       "      <td>Buceo</td>\n",
       "      <td>Alquiler</td>\n",
       "      <td>2021-01-03 00:00:00</td>\n",
       "    </tr>\n",
       "    <tr>\n",
       "      <th>4</th>\n",
       "      <td>Terreno en Punta Colorada</td>\n",
       "      <td>12805785</td>\n",
       "      <td>U$S 67.000</td>\n",
       "      <td>615 Mts</td>\n",
       "      <td>Terreno</td>\n",
       "      <td>NaN</td>\n",
       "      <td>TE201282 y Punta colorada</td>\n",
       "      <td>Punta Colorada</td>\n",
       "      <td>Venta</td>\n",
       "      <td>2021-01-03 00:00:00</td>\n",
       "    </tr>\n",
       "  </tbody>\n",
       "</table>\n",
       "</div>"
      ],
      "text/plain": [
       "                                     nombre_inmueble     aviso        precio  \\\n",
       "0         CASAS-ALQUILER-TEMPORAL-PUNTA-COLORADA-034  16579724     U$S 1.750   \n",
       "1  Alquilo Apto. 2 Dorm. Vista , 2 da Enero y Mar...  16735528        $U 800   \n",
       "2               Casa en Cerro del Burro \"MIRADOR II\"  13795860   U$S 100.000   \n",
       "3  Oficina Alquiler World Trade Center -WTC- Poci...  15655688     U$S 1.600   \n",
       "4                          Terreno en Punta Colorada  12805785    U$S 67.000   \n",
       "\n",
       "  superficie         tipo    dormitorios  \\\n",
       "0    600 Mts         Casa  2 dormitorios   \n",
       "1        NaN  Apartamento  2 dormitorios   \n",
       "2    300 Mts         Casa   1 dormitorio   \n",
       "3        NaN      Oficina            NaN   \n",
       "4    615 Mts      Terreno            NaN   \n",
       "\n",
       "                                           direccion          barrio  \\\n",
       "0  Av. Primera entre Rambla Costanera y 8 Guazubi...  Punta Colorada   \n",
       "1                     Mi hijo el doctor y En Familia  Punta Del Este   \n",
       "2                              ... y Cerro del burro      Piriápolis   \n",
       "3                                        ... y Buceo           Buceo   \n",
       "4                          TE201282 y Punta colorada  Punta Colorada   \n",
       "\n",
       "               negocio                fecha  \n",
       "0  Alquiler temporario  2021-01-03 00:00:00  \n",
       "1  Alquiler temporario  2021-01-03 00:00:00  \n",
       "2                Venta  2021-01-03 00:00:00  \n",
       "3             Alquiler  2021-01-03 00:00:00  \n",
       "4                Venta  2021-01-03 00:00:00  "
      ]
     },
     "execution_count": 19,
     "metadata": {},
     "output_type": "execute_result"
    }
   ],
   "source": [
    "data.head(5)"
   ]
  },
  {
   "cell_type": "code",
   "execution_count": 30,
   "id": "fe36d45a",
   "metadata": {},
   "outputs": [
    {
     "name": "stdout",
     "output_type": "stream",
     "text": [
      "<class 'pandas.core.frame.DataFrame'>\n",
      "RangeIndex: 96583 entries, 0 to 96582\n",
      "Data columns (total 10 columns):\n",
      " #   Column           Non-Null Count  Dtype \n",
      "---  ------           --------------  ----- \n",
      " 0   nombre_inmueble  96462 non-null  object\n",
      " 1   aviso            96583 non-null  object\n",
      " 2   precio           96462 non-null  object\n",
      " 3   superficie       81049 non-null  object\n",
      " 4   tipo             96462 non-null  object\n",
      " 5   dormitorios      75070 non-null  object\n",
      " 6   direccion        96128 non-null  object\n",
      " 7   barrio           96462 non-null  object\n",
      " 8   negocio          96462 non-null  object\n",
      " 9   fecha            96583 non-null  object\n",
      "dtypes: object(10)\n",
      "memory usage: 7.4+ MB\n"
     ]
    }
   ],
   "source": [
    "data.info()"
   ]
  },
  {
   "cell_type": "markdown",
   "id": "fc67a156",
   "metadata": {},
   "source": [
    "Clasificación por:\n",
    "    - tipo de finca\n",
    "    - tipo de negocio: afecta el precio (alquileres mensuales)"
   ]
  },
  {
   "cell_type": "code",
   "execution_count": 28,
   "id": "67b71f4d",
   "metadata": {
    "scrolled": true
   },
   "outputs": [
    {
     "data": {
      "text/plain": [
       "Venta                  66165\n",
       "Alquiler               15553\n",
       "Alquiler temporario    14744\n",
       "Name: negocio, dtype: int64"
      ]
     },
     "execution_count": 28,
     "metadata": {},
     "output_type": "execute_result"
    }
   ],
   "source": [
    "data[\"negocio\"].value_counts()"
   ]
  },
  {
   "cell_type": "code",
   "execution_count": 29,
   "id": "e6b85c05",
   "metadata": {},
   "outputs": [
    {
     "data": {
      "text/plain": [
       "Apartamento    45098\n",
       "Casa           29972\n",
       "Terreno        11076\n",
       "Oficina         4455\n",
       "Local           3944\n",
       "Campo           1375\n",
       "Comercio         202\n",
       "Edificio         157\n",
       "Garage           111\n",
       "Piezas            66\n",
       "Otro               6\n",
       "Name: tipo, dtype: int64"
      ]
     },
     "execution_count": 29,
     "metadata": {},
     "output_type": "execute_result"
    }
   ],
   "source": [
    "data[\"tipo\"].value_counts()"
   ]
  },
  {
   "cell_type": "code",
   "execution_count": 25,
   "id": "1fd64456",
   "metadata": {},
   "outputs": [
    {
     "data": {
      "text/plain": [
       "(455, 96128)"
      ]
     },
     "execution_count": 25,
     "metadata": {},
     "output_type": "execute_result"
    }
   ],
   "source": [
    "data[\"direccion\"].isna().sum(), data[\"direccion\"].count() #Conteo de direcciones"
   ]
  },
  {
   "cell_type": "code",
   "execution_count": 26,
   "id": "d84bc54f",
   "metadata": {},
   "outputs": [
    {
     "data": {
      "text/plain": [
       "(121, 96462)"
      ]
     },
     "execution_count": 26,
     "metadata": {},
     "output_type": "execute_result"
    }
   ],
   "source": [
    "data[\"barrio\"].isna().sum(), data[\"barrio\"].count() #Conteo de barrio, posibilidad de imputar direcciones faltantes"
   ]
  },
  {
   "cell_type": "code",
   "execution_count": 27,
   "id": "fdbef780",
   "metadata": {},
   "outputs": [
    {
     "data": {
      "text/plain": [
       "121"
      ]
     },
     "execution_count": 27,
     "metadata": {},
     "output_type": "execute_result"
    }
   ],
   "source": [
    "data[\"precio\"].isna().sum()\n",
    "#Si el estudio es sobre oportunidad de inversión, estos datos deben eliminarse"
   ]
  },
  {
   "cell_type": "code",
   "execution_count": 33,
   "id": "d0cee2f8",
   "metadata": {},
   "outputs": [
    {
     "data": {
      "text/plain": [
       "0        2021-01-03 00:00:00\n",
       "1        2021-01-03 00:00:00\n",
       "2        2021-01-03 00:00:00\n",
       "3        2021-01-03 00:00:00\n",
       "4        2021-01-03 00:00:00\n",
       "                ...         \n",
       "96578    2021-12-07 00:00:00\n",
       "96579    2021-12-07 00:00:00\n",
       "96580    2021-12-07 00:00:00\n",
       "96581    2021-12-07 00:00:00\n",
       "96582    2021-12-07 00:00:00\n",
       "Name: fecha, Length: 96583, dtype: object"
      ]
     },
     "execution_count": 33,
     "metadata": {},
     "output_type": "execute_result"
    }
   ],
   "source": [
    "data[\"fecha\"] #Irrelevante para el EDA, eliminable"
   ]
  },
  {
   "cell_type": "code",
   "execution_count": 34,
   "id": "a478db5b",
   "metadata": {
    "scrolled": true
   },
   "outputs": [
    {
     "data": {
      "text/plain": [
       "0        16579724\n",
       "1        16735528\n",
       "2        13795860\n",
       "3        15655688\n",
       "4        12805785\n",
       "           ...   \n",
       "96578    18610881\n",
       "96579    17710617\n",
       "96580    12804460\n",
       "96581    18611010\n",
       "96582    18610480\n",
       "Name: aviso, Length: 96583, dtype: object"
      ]
     },
     "execution_count": 34,
     "metadata": {},
     "output_type": "execute_result"
    }
   ],
   "source": [
    "data[\"aviso\"] #Irrelevante para el modelo, eliminable provisoriamente"
   ]
  },
  {
   "cell_type": "code",
   "execution_count": 49,
   "id": "de1804ec",
   "metadata": {},
   "outputs": [],
   "source": [
    "edit.drop(\"aviso\",axis=1,inplace=True) #Eliminación de columna aviso"
   ]
  },
  {
   "cell_type": "code",
   "execution_count": 51,
   "id": "155c4f43",
   "metadata": {},
   "outputs": [
    {
     "data": {
      "text/html": [
       "<div>\n",
       "<style scoped>\n",
       "    .dataframe tbody tr th:only-of-type {\n",
       "        vertical-align: middle;\n",
       "    }\n",
       "\n",
       "    .dataframe tbody tr th {\n",
       "        vertical-align: top;\n",
       "    }\n",
       "\n",
       "    .dataframe thead th {\n",
       "        text-align: right;\n",
       "    }\n",
       "</style>\n",
       "<table border=\"1\" class=\"dataframe\">\n",
       "  <thead>\n",
       "    <tr style=\"text-align: right;\">\n",
       "      <th></th>\n",
       "      <th>nombre_inmueble</th>\n",
       "      <th>precio</th>\n",
       "      <th>superficie</th>\n",
       "      <th>tipo</th>\n",
       "      <th>dormitorios</th>\n",
       "      <th>direccion</th>\n",
       "      <th>barrio</th>\n",
       "      <th>negocio</th>\n",
       "      <th>fecha</th>\n",
       "    </tr>\n",
       "  </thead>\n",
       "  <tbody>\n",
       "    <tr>\n",
       "      <th>0</th>\n",
       "      <td>CASAS-ALQUILER-TEMPORAL-PUNTA-COLORADA-034</td>\n",
       "      <td>U$S 1.750</td>\n",
       "      <td>600 Mts</td>\n",
       "      <td>Casa</td>\n",
       "      <td>2 dormitorios</td>\n",
       "      <td>Av. Primera entre Rambla Costanera y 8 Guazubi...</td>\n",
       "      <td>Punta Colorada</td>\n",
       "      <td>Alquiler temporario</td>\n",
       "      <td>2021-01-03 00:00:00</td>\n",
       "    </tr>\n",
       "    <tr>\n",
       "      <th>1</th>\n",
       "      <td>Alquilo Apto. 2 Dorm. Vista , 2 da Enero y Mar...</td>\n",
       "      <td>$U 800</td>\n",
       "      <td>NaN</td>\n",
       "      <td>Apartamento</td>\n",
       "      <td>2 dormitorios</td>\n",
       "      <td>Mi hijo el doctor y En Familia</td>\n",
       "      <td>Punta Del Este</td>\n",
       "      <td>Alquiler temporario</td>\n",
       "      <td>2021-01-03 00:00:00</td>\n",
       "    </tr>\n",
       "    <tr>\n",
       "      <th>2</th>\n",
       "      <td>Casa en Cerro del Burro \"MIRADOR II\"</td>\n",
       "      <td>U$S 100.000</td>\n",
       "      <td>300 Mts</td>\n",
       "      <td>Casa</td>\n",
       "      <td>1 dormitorio</td>\n",
       "      <td>... y Cerro del burro</td>\n",
       "      <td>Piriápolis</td>\n",
       "      <td>Venta</td>\n",
       "      <td>2021-01-03 00:00:00</td>\n",
       "    </tr>\n",
       "    <tr>\n",
       "      <th>3</th>\n",
       "      <td>Oficina Alquiler World Trade Center -WTC- Poci...</td>\n",
       "      <td>U$S 1.600</td>\n",
       "      <td>NaN</td>\n",
       "      <td>Oficina</td>\n",
       "      <td>NaN</td>\n",
       "      <td>... y Buceo</td>\n",
       "      <td>Buceo</td>\n",
       "      <td>Alquiler</td>\n",
       "      <td>2021-01-03 00:00:00</td>\n",
       "    </tr>\n",
       "    <tr>\n",
       "      <th>4</th>\n",
       "      <td>Terreno en Punta Colorada</td>\n",
       "      <td>U$S 67.000</td>\n",
       "      <td>615 Mts</td>\n",
       "      <td>Terreno</td>\n",
       "      <td>NaN</td>\n",
       "      <td>TE201282 y Punta colorada</td>\n",
       "      <td>Punta Colorada</td>\n",
       "      <td>Venta</td>\n",
       "      <td>2021-01-03 00:00:00</td>\n",
       "    </tr>\n",
       "    <tr>\n",
       "      <th>...</th>\n",
       "      <td>...</td>\n",
       "      <td>...</td>\n",
       "      <td>...</td>\n",
       "      <td>...</td>\n",
       "      <td>...</td>\n",
       "      <td>...</td>\n",
       "      <td>...</td>\n",
       "      <td>...</td>\n",
       "      <td>...</td>\n",
       "    </tr>\n",
       "    <tr>\n",
       "      <th>96578</th>\n",
       "      <td>LOCALES-COMERCIALES-ALQUILER-ANUAL-PIRIAPOLIS-...</td>\n",
       "      <td>$U 22.000</td>\n",
       "      <td>NaN</td>\n",
       "      <td>Local</td>\n",
       "      <td>NaN</td>\n",
       "      <td>Tucumán entre Sierra y Sanabria y</td>\n",
       "      <td>Piriápolis</td>\n",
       "      <td>Alquiler</td>\n",
       "      <td>2021-12-07 00:00:00</td>\n",
       "    </tr>\n",
       "    <tr>\n",
       "      <th>96579</th>\n",
       "      <td>Casa en Punta Colorada \"LA VISTOSA\"</td>\n",
       "      <td>U$S 120.000</td>\n",
       "      <td>1000 Mts</td>\n",
       "      <td>Casa</td>\n",
       "      <td>1 dormitorio</td>\n",
       "      <td>... y Punta colorada</td>\n",
       "      <td>Piriápolis</td>\n",
       "      <td>Venta</td>\n",
       "      <td>2021-12-07 00:00:00</td>\n",
       "    </tr>\n",
       "    <tr>\n",
       "      <th>96580</th>\n",
       "      <td>Casa en San Francisco \"GABIMAR I\"</td>\n",
       "      <td>U$S 1.600</td>\n",
       "      <td>500 Mts</td>\n",
       "      <td>Casa</td>\n",
       "      <td>2 dormitorios</td>\n",
       "      <td>... y San francisco</td>\n",
       "      <td>Piriápolis</td>\n",
       "      <td>Alquiler temporario</td>\n",
       "      <td>2021-12-07 00:00:00</td>\n",
       "    </tr>\n",
       "    <tr>\n",
       "      <th>96581</th>\n",
       "      <td>CASAS-VENTA-SAN-FRANCISCO-289</td>\n",
       "      <td>U$S 190.000</td>\n",
       "      <td>532 Mts</td>\n",
       "      <td>Casa</td>\n",
       "      <td>3 dormitorios</td>\n",
       "      <td>25 Cardenal y 6 Cisne y</td>\n",
       "      <td>Piriápolis</td>\n",
       "      <td>Venta</td>\n",
       "      <td>2021-12-07 00:00:00</td>\n",
       "    </tr>\n",
       "    <tr>\n",
       "      <th>96582</th>\n",
       "      <td>CASAS-VENTA-PLAYA-HERMOSA-1221</td>\n",
       "      <td>U$S 175.000</td>\n",
       "      <td>434 Mts</td>\n",
       "      <td>Casa</td>\n",
       "      <td>2 dormitorios</td>\n",
       "      <td>Calle 62 entre Calle 21 y Calle 17 y</td>\n",
       "      <td>Playa Hermosa</td>\n",
       "      <td>Venta</td>\n",
       "      <td>2021-12-07 00:00:00</td>\n",
       "    </tr>\n",
       "  </tbody>\n",
       "</table>\n",
       "<p>96583 rows × 9 columns</p>\n",
       "</div>"
      ],
      "text/plain": [
       "                                         nombre_inmueble        precio  \\\n",
       "0             CASAS-ALQUILER-TEMPORAL-PUNTA-COLORADA-034     U$S 1.750   \n",
       "1      Alquilo Apto. 2 Dorm. Vista , 2 da Enero y Mar...        $U 800   \n",
       "2                   Casa en Cerro del Burro \"MIRADOR II\"   U$S 100.000   \n",
       "3      Oficina Alquiler World Trade Center -WTC- Poci...     U$S 1.600   \n",
       "4                              Terreno en Punta Colorada    U$S 67.000   \n",
       "...                                                  ...           ...   \n",
       "96578  LOCALES-COMERCIALES-ALQUILER-ANUAL-PIRIAPOLIS-...     $U 22.000   \n",
       "96579                Casa en Punta Colorada \"LA VISTOSA\"   U$S 120.000   \n",
       "96580                  Casa en San Francisco \"GABIMAR I\"     U$S 1.600   \n",
       "96581                      CASAS-VENTA-SAN-FRANCISCO-289   U$S 190.000   \n",
       "96582                     CASAS-VENTA-PLAYA-HERMOSA-1221   U$S 175.000   \n",
       "\n",
       "      superficie         tipo    dormitorios  \\\n",
       "0        600 Mts         Casa  2 dormitorios   \n",
       "1            NaN  Apartamento  2 dormitorios   \n",
       "2        300 Mts         Casa   1 dormitorio   \n",
       "3            NaN      Oficina            NaN   \n",
       "4        615 Mts      Terreno            NaN   \n",
       "...          ...          ...            ...   \n",
       "96578        NaN        Local            NaN   \n",
       "96579   1000 Mts         Casa   1 dormitorio   \n",
       "96580    500 Mts         Casa  2 dormitorios   \n",
       "96581    532 Mts         Casa  3 dormitorios   \n",
       "96582    434 Mts         Casa  2 dormitorios   \n",
       "\n",
       "                                               direccion          barrio  \\\n",
       "0      Av. Primera entre Rambla Costanera y 8 Guazubi...  Punta Colorada   \n",
       "1                         Mi hijo el doctor y En Familia  Punta Del Este   \n",
       "2                                  ... y Cerro del burro      Piriápolis   \n",
       "3                                            ... y Buceo           Buceo   \n",
       "4                              TE201282 y Punta colorada  Punta Colorada   \n",
       "...                                                  ...             ...   \n",
       "96578                 Tucumán entre Sierra y Sanabria y       Piriápolis   \n",
       "96579                               ... y Punta colorada      Piriápolis   \n",
       "96580                                ... y San francisco      Piriápolis   \n",
       "96581                           25 Cardenal y 6 Cisne y       Piriápolis   \n",
       "96582              Calle 62 entre Calle 21 y Calle 17 y    Playa Hermosa   \n",
       "\n",
       "                   negocio                fecha  \n",
       "0      Alquiler temporario  2021-01-03 00:00:00  \n",
       "1      Alquiler temporario  2021-01-03 00:00:00  \n",
       "2                    Venta  2021-01-03 00:00:00  \n",
       "3                 Alquiler  2021-01-03 00:00:00  \n",
       "4                    Venta  2021-01-03 00:00:00  \n",
       "...                    ...                  ...  \n",
       "96578             Alquiler  2021-12-07 00:00:00  \n",
       "96579                Venta  2021-12-07 00:00:00  \n",
       "96580  Alquiler temporario  2021-12-07 00:00:00  \n",
       "96581                Venta  2021-12-07 00:00:00  \n",
       "96582                Venta  2021-12-07 00:00:00  \n",
       "\n",
       "[96583 rows x 9 columns]"
      ]
     },
     "execution_count": 51,
     "metadata": {},
     "output_type": "execute_result"
    }
   ],
   "source": [
    "edit"
   ]
  }
 ],
 "metadata": {
  "kernelspec": {
   "display_name": "Python 3 (ipykernel)",
   "language": "python",
   "name": "python3"
  },
  "language_info": {
   "codemirror_mode": {
    "name": "ipython",
    "version": 3
   },
   "file_extension": ".py",
   "mimetype": "text/x-python",
   "name": "python",
   "nbconvert_exporter": "python",
   "pygments_lexer": "ipython3",
   "version": "3.9.7"
  }
 },
 "nbformat": 4,
 "nbformat_minor": 5
}
