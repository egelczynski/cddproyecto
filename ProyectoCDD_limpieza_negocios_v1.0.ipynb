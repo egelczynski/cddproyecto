{
 "cells": [
  {
   "cell_type": "code",
   "execution_count": 35,
   "id": "e9ef817e",
   "metadata": {},
   "outputs": [],
   "source": [
    "import pandas as pd\n",
    "import numpy as np\n",
    "from matplotlib import pyplot as plt\n",
    "import sklearn.preprocessing"
   ]
  },
  {
   "cell_type": "code",
   "execution_count": 36,
   "id": "9d31df78",
   "metadata": {},
   "outputs": [
    {
     "name": "stderr",
     "output_type": "stream",
     "text": [
      "C:\\Users\\ssola\\AppData\\Local\\Temp\\ipykernel_3616\\492614709.py:1: DtypeWarning: Columns (1) have mixed types. Specify dtype option on import or set low_memory=False.\n",
      "  data = pd.read_csv(\"data.csv\")\n"
     ]
    }
   ],
   "source": [
    "data = pd.read_csv(\"data.csv\")\n",
    "edit = data.copy()"
   ]
  },
  {
   "cell_type": "markdown",
   "id": "e5a2379e",
   "metadata": {},
   "source": [
    "## Limpieza de Datos"
   ]
  },
  {
   "cell_type": "markdown",
   "id": "f1dc054a",
   "metadata": {},
   "source": [
    "### Negocio"
   ]
  },
  {
   "cell_type": "code",
   "execution_count": 37,
   "id": "d33810e7",
   "metadata": {},
   "outputs": [
    {
     "data": {
      "text/html": [
       "<div>\n",
       "<style scoped>\n",
       "    .dataframe tbody tr th:only-of-type {\n",
       "        vertical-align: middle;\n",
       "    }\n",
       "\n",
       "    .dataframe tbody tr th {\n",
       "        vertical-align: top;\n",
       "    }\n",
       "\n",
       "    .dataframe thead th {\n",
       "        text-align: right;\n",
       "    }\n",
       "</style>\n",
       "<table border=\"1\" class=\"dataframe\">\n",
       "  <thead>\n",
       "    <tr style=\"text-align: right;\">\n",
       "      <th></th>\n",
       "      <th>nombre_inmueble</th>\n",
       "      <th>aviso</th>\n",
       "      <th>precio</th>\n",
       "      <th>superficie</th>\n",
       "      <th>tipo</th>\n",
       "      <th>dormitorios</th>\n",
       "      <th>direccion</th>\n",
       "      <th>barrio</th>\n",
       "      <th>negocio</th>\n",
       "      <th>fecha</th>\n",
       "    </tr>\n",
       "  </thead>\n",
       "  <tbody>\n",
       "    <tr>\n",
       "      <th>0</th>\n",
       "      <td>CASAS-ALQUILER-TEMPORAL-PUNTA-COLORADA-034</td>\n",
       "      <td>16579724</td>\n",
       "      <td>U$S 1.750</td>\n",
       "      <td>600 Mts</td>\n",
       "      <td>Casa</td>\n",
       "      <td>2 dormitorios</td>\n",
       "      <td>Av. Primera entre Rambla Costanera y 8 Guazubi...</td>\n",
       "      <td>Punta Colorada</td>\n",
       "      <td>Alquiler temporario</td>\n",
       "      <td>2021-01-03 00:00:00</td>\n",
       "    </tr>\n",
       "    <tr>\n",
       "      <th>1</th>\n",
       "      <td>Alquilo Apto. 2 Dorm. Vista , 2 da Enero y Mar...</td>\n",
       "      <td>16735528</td>\n",
       "      <td>$U 800</td>\n",
       "      <td>NaN</td>\n",
       "      <td>Apartamento</td>\n",
       "      <td>2 dormitorios</td>\n",
       "      <td>Mi hijo el doctor y En Familia</td>\n",
       "      <td>Punta Del Este</td>\n",
       "      <td>Alquiler temporario</td>\n",
       "      <td>2021-01-03 00:00:00</td>\n",
       "    </tr>\n",
       "    <tr>\n",
       "      <th>2</th>\n",
       "      <td>Casa en Cerro del Burro \"MIRADOR II\"</td>\n",
       "      <td>13795860</td>\n",
       "      <td>U$S 100.000</td>\n",
       "      <td>300 Mts</td>\n",
       "      <td>Casa</td>\n",
       "      <td>1 dormitorio</td>\n",
       "      <td>... y Cerro del burro</td>\n",
       "      <td>Piriápolis</td>\n",
       "      <td>Venta</td>\n",
       "      <td>2021-01-03 00:00:00</td>\n",
       "    </tr>\n",
       "    <tr>\n",
       "      <th>3</th>\n",
       "      <td>Oficina Alquiler World Trade Center -WTC- Poci...</td>\n",
       "      <td>15655688</td>\n",
       "      <td>U$S 1.600</td>\n",
       "      <td>NaN</td>\n",
       "      <td>Oficina</td>\n",
       "      <td>NaN</td>\n",
       "      <td>... y Buceo</td>\n",
       "      <td>Buceo</td>\n",
       "      <td>Alquiler</td>\n",
       "      <td>2021-01-03 00:00:00</td>\n",
       "    </tr>\n",
       "    <tr>\n",
       "      <th>4</th>\n",
       "      <td>Terreno en Punta Colorada</td>\n",
       "      <td>12805785</td>\n",
       "      <td>U$S 67.000</td>\n",
       "      <td>615 Mts</td>\n",
       "      <td>Terreno</td>\n",
       "      <td>NaN</td>\n",
       "      <td>TE201282 y Punta colorada</td>\n",
       "      <td>Punta Colorada</td>\n",
       "      <td>Venta</td>\n",
       "      <td>2021-01-03 00:00:00</td>\n",
       "    </tr>\n",
       "  </tbody>\n",
       "</table>\n",
       "</div>"
      ],
      "text/plain": [
       "                                     nombre_inmueble     aviso        precio  \\\n",
       "0         CASAS-ALQUILER-TEMPORAL-PUNTA-COLORADA-034  16579724     U$S 1.750   \n",
       "1  Alquilo Apto. 2 Dorm. Vista , 2 da Enero y Mar...  16735528        $U 800   \n",
       "2               Casa en Cerro del Burro \"MIRADOR II\"  13795860   U$S 100.000   \n",
       "3  Oficina Alquiler World Trade Center -WTC- Poci...  15655688     U$S 1.600   \n",
       "4                          Terreno en Punta Colorada  12805785    U$S 67.000   \n",
       "\n",
       "  superficie         tipo    dormitorios  \\\n",
       "0    600 Mts         Casa  2 dormitorios   \n",
       "1        NaN  Apartamento  2 dormitorios   \n",
       "2    300 Mts         Casa   1 dormitorio   \n",
       "3        NaN      Oficina            NaN   \n",
       "4    615 Mts      Terreno            NaN   \n",
       "\n",
       "                                           direccion          barrio  \\\n",
       "0  Av. Primera entre Rambla Costanera y 8 Guazubi...  Punta Colorada   \n",
       "1                     Mi hijo el doctor y En Familia  Punta Del Este   \n",
       "2                              ... y Cerro del burro      Piriápolis   \n",
       "3                                        ... y Buceo           Buceo   \n",
       "4                          TE201282 y Punta colorada  Punta Colorada   \n",
       "\n",
       "               negocio                fecha  \n",
       "0  Alquiler temporario  2021-01-03 00:00:00  \n",
       "1  Alquiler temporario  2021-01-03 00:00:00  \n",
       "2                Venta  2021-01-03 00:00:00  \n",
       "3             Alquiler  2021-01-03 00:00:00  \n",
       "4                Venta  2021-01-03 00:00:00  "
      ]
     },
     "execution_count": 37,
     "metadata": {},
     "output_type": "execute_result"
    }
   ],
   "source": [
    "data.head()"
   ]
  },
  {
   "cell_type": "code",
   "execution_count": 38,
   "id": "5dcf8d5b",
   "metadata": {},
   "outputs": [
    {
     "data": {
      "text/plain": [
       "array(['Alquiler temporario', 'Venta', 'Alquiler', nan], dtype=object)"
      ]
     },
     "execution_count": 38,
     "metadata": {},
     "output_type": "execute_result"
    }
   ],
   "source": [
    "data['negocio'].unique()"
   ]
  },
  {
   "cell_type": "code",
   "execution_count": 39,
   "id": "e1bf3cc0",
   "metadata": {},
   "outputs": [],
   "source": [
    "#LO SIGUIENTE NO VA EN EL IPYNB ORIGINAL, estas filas ya deberian estar eliminadas"
   ]
  },
  {
   "cell_type": "code",
   "execution_count": 40,
   "id": "f0f259a2",
   "metadata": {},
   "outputs": [
    {
     "data": {
      "text/html": [
       "<div>\n",
       "<style scoped>\n",
       "    .dataframe tbody tr th:only-of-type {\n",
       "        vertical-align: middle;\n",
       "    }\n",
       "\n",
       "    .dataframe tbody tr th {\n",
       "        vertical-align: top;\n",
       "    }\n",
       "\n",
       "    .dataframe thead th {\n",
       "        text-align: right;\n",
       "    }\n",
       "</style>\n",
       "<table border=\"1\" class=\"dataframe\">\n",
       "  <thead>\n",
       "    <tr style=\"text-align: right;\">\n",
       "      <th></th>\n",
       "      <th>nombre_inmueble</th>\n",
       "      <th>aviso</th>\n",
       "      <th>precio</th>\n",
       "      <th>superficie</th>\n",
       "      <th>tipo</th>\n",
       "      <th>dormitorios</th>\n",
       "      <th>direccion</th>\n",
       "      <th>barrio</th>\n",
       "      <th>negocio</th>\n",
       "      <th>fecha</th>\n",
       "    </tr>\n",
       "  </thead>\n",
       "  <tbody>\n",
       "    <tr>\n",
       "      <th>0</th>\n",
       "      <td>CASAS-ALQUILER-TEMPORAL-PUNTA-COLORADA-034</td>\n",
       "      <td>16579724</td>\n",
       "      <td>U$S 1.750</td>\n",
       "      <td>600 Mts</td>\n",
       "      <td>Casa</td>\n",
       "      <td>2 dormitorios</td>\n",
       "      <td>Av. Primera entre Rambla Costanera y 8 Guazubi...</td>\n",
       "      <td>Punta Colorada</td>\n",
       "      <td>Alquiler temporario</td>\n",
       "      <td>2021-01-03 00:00:00</td>\n",
       "    </tr>\n",
       "    <tr>\n",
       "      <th>1</th>\n",
       "      <td>Alquilo Apto. 2 Dorm. Vista , 2 da Enero y Mar...</td>\n",
       "      <td>16735528</td>\n",
       "      <td>$U 800</td>\n",
       "      <td>NaN</td>\n",
       "      <td>Apartamento</td>\n",
       "      <td>2 dormitorios</td>\n",
       "      <td>Mi hijo el doctor y En Familia</td>\n",
       "      <td>Punta Del Este</td>\n",
       "      <td>Alquiler temporario</td>\n",
       "      <td>2021-01-03 00:00:00</td>\n",
       "    </tr>\n",
       "    <tr>\n",
       "      <th>2</th>\n",
       "      <td>Casa en Cerro del Burro \"MIRADOR II\"</td>\n",
       "      <td>13795860</td>\n",
       "      <td>U$S 100.000</td>\n",
       "      <td>300 Mts</td>\n",
       "      <td>Casa</td>\n",
       "      <td>1 dormitorio</td>\n",
       "      <td>... y Cerro del burro</td>\n",
       "      <td>Piriápolis</td>\n",
       "      <td>Venta</td>\n",
       "      <td>2021-01-03 00:00:00</td>\n",
       "    </tr>\n",
       "    <tr>\n",
       "      <th>3</th>\n",
       "      <td>Oficina Alquiler World Trade Center -WTC- Poci...</td>\n",
       "      <td>15655688</td>\n",
       "      <td>U$S 1.600</td>\n",
       "      <td>NaN</td>\n",
       "      <td>Oficina</td>\n",
       "      <td>NaN</td>\n",
       "      <td>... y Buceo</td>\n",
       "      <td>Buceo</td>\n",
       "      <td>Alquiler</td>\n",
       "      <td>2021-01-03 00:00:00</td>\n",
       "    </tr>\n",
       "    <tr>\n",
       "      <th>4</th>\n",
       "      <td>Terreno en Punta Colorada</td>\n",
       "      <td>12805785</td>\n",
       "      <td>U$S 67.000</td>\n",
       "      <td>615 Mts</td>\n",
       "      <td>Terreno</td>\n",
       "      <td>NaN</td>\n",
       "      <td>TE201282 y Punta colorada</td>\n",
       "      <td>Punta Colorada</td>\n",
       "      <td>Venta</td>\n",
       "      <td>2021-01-03 00:00:00</td>\n",
       "    </tr>\n",
       "    <tr>\n",
       "      <th>...</th>\n",
       "      <td>...</td>\n",
       "      <td>...</td>\n",
       "      <td>...</td>\n",
       "      <td>...</td>\n",
       "      <td>...</td>\n",
       "      <td>...</td>\n",
       "      <td>...</td>\n",
       "      <td>...</td>\n",
       "      <td>...</td>\n",
       "      <td>...</td>\n",
       "    </tr>\n",
       "    <tr>\n",
       "      <th>96578</th>\n",
       "      <td>LOCALES-COMERCIALES-ALQUILER-ANUAL-PIRIAPOLIS-...</td>\n",
       "      <td>18610881</td>\n",
       "      <td>$U 22.000</td>\n",
       "      <td>NaN</td>\n",
       "      <td>Local</td>\n",
       "      <td>NaN</td>\n",
       "      <td>Tucumán entre Sierra y Sanabria y</td>\n",
       "      <td>Piriápolis</td>\n",
       "      <td>Alquiler</td>\n",
       "      <td>2021-12-07 00:00:00</td>\n",
       "    </tr>\n",
       "    <tr>\n",
       "      <th>96579</th>\n",
       "      <td>Casa en Punta Colorada \"LA VISTOSA\"</td>\n",
       "      <td>17710617</td>\n",
       "      <td>U$S 120.000</td>\n",
       "      <td>1000 Mts</td>\n",
       "      <td>Casa</td>\n",
       "      <td>1 dormitorio</td>\n",
       "      <td>... y Punta colorada</td>\n",
       "      <td>Piriápolis</td>\n",
       "      <td>Venta</td>\n",
       "      <td>2021-12-07 00:00:00</td>\n",
       "    </tr>\n",
       "    <tr>\n",
       "      <th>96580</th>\n",
       "      <td>Casa en San Francisco \"GABIMAR I\"</td>\n",
       "      <td>12804460</td>\n",
       "      <td>U$S 1.600</td>\n",
       "      <td>500 Mts</td>\n",
       "      <td>Casa</td>\n",
       "      <td>2 dormitorios</td>\n",
       "      <td>... y San francisco</td>\n",
       "      <td>Piriápolis</td>\n",
       "      <td>Alquiler temporario</td>\n",
       "      <td>2021-12-07 00:00:00</td>\n",
       "    </tr>\n",
       "    <tr>\n",
       "      <th>96581</th>\n",
       "      <td>CASAS-VENTA-SAN-FRANCISCO-289</td>\n",
       "      <td>18611010</td>\n",
       "      <td>U$S 190.000</td>\n",
       "      <td>532 Mts</td>\n",
       "      <td>Casa</td>\n",
       "      <td>3 dormitorios</td>\n",
       "      <td>25 Cardenal y 6 Cisne y</td>\n",
       "      <td>Piriápolis</td>\n",
       "      <td>Venta</td>\n",
       "      <td>2021-12-07 00:00:00</td>\n",
       "    </tr>\n",
       "    <tr>\n",
       "      <th>96582</th>\n",
       "      <td>CASAS-VENTA-PLAYA-HERMOSA-1221</td>\n",
       "      <td>18610480</td>\n",
       "      <td>U$S 175.000</td>\n",
       "      <td>434 Mts</td>\n",
       "      <td>Casa</td>\n",
       "      <td>2 dormitorios</td>\n",
       "      <td>Calle 62 entre Calle 21 y Calle 17 y</td>\n",
       "      <td>Playa Hermosa</td>\n",
       "      <td>Venta</td>\n",
       "      <td>2021-12-07 00:00:00</td>\n",
       "    </tr>\n",
       "  </tbody>\n",
       "</table>\n",
       "<p>96462 rows × 10 columns</p>\n",
       "</div>"
      ],
      "text/plain": [
       "                                         nombre_inmueble     aviso  \\\n",
       "0             CASAS-ALQUILER-TEMPORAL-PUNTA-COLORADA-034  16579724   \n",
       "1      Alquilo Apto. 2 Dorm. Vista , 2 da Enero y Mar...  16735528   \n",
       "2                   Casa en Cerro del Burro \"MIRADOR II\"  13795860   \n",
       "3      Oficina Alquiler World Trade Center -WTC- Poci...  15655688   \n",
       "4                              Terreno en Punta Colorada  12805785   \n",
       "...                                                  ...       ...   \n",
       "96578  LOCALES-COMERCIALES-ALQUILER-ANUAL-PIRIAPOLIS-...  18610881   \n",
       "96579                Casa en Punta Colorada \"LA VISTOSA\"  17710617   \n",
       "96580                  Casa en San Francisco \"GABIMAR I\"  12804460   \n",
       "96581                      CASAS-VENTA-SAN-FRANCISCO-289  18611010   \n",
       "96582                     CASAS-VENTA-PLAYA-HERMOSA-1221  18610480   \n",
       "\n",
       "             precio superficie         tipo    dormitorios  \\\n",
       "0         U$S 1.750    600 Mts         Casa  2 dormitorios   \n",
       "1            $U 800        NaN  Apartamento  2 dormitorios   \n",
       "2       U$S 100.000    300 Mts         Casa   1 dormitorio   \n",
       "3         U$S 1.600        NaN      Oficina            NaN   \n",
       "4        U$S 67.000    615 Mts      Terreno            NaN   \n",
       "...             ...        ...          ...            ...   \n",
       "96578     $U 22.000        NaN        Local            NaN   \n",
       "96579   U$S 120.000   1000 Mts         Casa   1 dormitorio   \n",
       "96580     U$S 1.600    500 Mts         Casa  2 dormitorios   \n",
       "96581   U$S 190.000    532 Mts         Casa  3 dormitorios   \n",
       "96582   U$S 175.000    434 Mts         Casa  2 dormitorios   \n",
       "\n",
       "                                               direccion          barrio  \\\n",
       "0      Av. Primera entre Rambla Costanera y 8 Guazubi...  Punta Colorada   \n",
       "1                         Mi hijo el doctor y En Familia  Punta Del Este   \n",
       "2                                  ... y Cerro del burro      Piriápolis   \n",
       "3                                            ... y Buceo           Buceo   \n",
       "4                              TE201282 y Punta colorada  Punta Colorada   \n",
       "...                                                  ...             ...   \n",
       "96578                 Tucumán entre Sierra y Sanabria y       Piriápolis   \n",
       "96579                               ... y Punta colorada      Piriápolis   \n",
       "96580                                ... y San francisco      Piriápolis   \n",
       "96581                           25 Cardenal y 6 Cisne y       Piriápolis   \n",
       "96582              Calle 62 entre Calle 21 y Calle 17 y    Playa Hermosa   \n",
       "\n",
       "                   negocio                fecha  \n",
       "0      Alquiler temporario  2021-01-03 00:00:00  \n",
       "1      Alquiler temporario  2021-01-03 00:00:00  \n",
       "2                    Venta  2021-01-03 00:00:00  \n",
       "3                 Alquiler  2021-01-03 00:00:00  \n",
       "4                    Venta  2021-01-03 00:00:00  \n",
       "...                    ...                  ...  \n",
       "96578             Alquiler  2021-12-07 00:00:00  \n",
       "96579                Venta  2021-12-07 00:00:00  \n",
       "96580  Alquiler temporario  2021-12-07 00:00:00  \n",
       "96581                Venta  2021-12-07 00:00:00  \n",
       "96582                Venta  2021-12-07 00:00:00  \n",
       "\n",
       "[96462 rows x 10 columns]"
      ]
     },
     "execution_count": 40,
     "metadata": {},
     "output_type": "execute_result"
    }
   ],
   "source": [
    "NaN_nego  = data['negocio'].isna()\n",
    "NaN_nego_loc = NaN_nego[NaN_nego==True].index.values\n",
    "data = data.drop(index= NaN_nego_loc)\n",
    "data"
   ]
  },
  {
   "cell_type": "code",
   "execution_count": 41,
   "id": "60bfa23e",
   "metadata": {},
   "outputs": [],
   "source": [
    "#COPIAR DESDE ACA"
   ]
  },
  {
   "cell_type": "code",
   "execution_count": 42,
   "id": "7625696a",
   "metadata": {},
   "outputs": [
    {
     "data": {
      "text/plain": [
       "array(['Alquiler temporario', 'Venta', 'Alquiler'], dtype=object)"
      ]
     },
     "execution_count": 42,
     "metadata": {},
     "output_type": "execute_result"
    }
   ],
   "source": [
    "data['negocio'].unique()"
   ]
  },
  {
   "cell_type": "code",
   "execution_count": 44,
   "id": "73f7f83a",
   "metadata": {},
   "outputs": [],
   "source": [
    "#Para el Book Code: 1 = Alqiiler Temporario; 2 = Venta; 3 = Alquiler"
   ]
  },
  {
   "cell_type": "code",
   "execution_count": 45,
   "id": "9e1e0a2e",
   "metadata": {},
   "outputs": [],
   "source": [
    "def negocio_bin(x):\n",
    "    if x == 'Alquiler temporario':\n",
    "        return 1\n",
    "    if x == 'Venta':\n",
    "        return 2\n",
    "    if x == 'Alquiler':\n",
    "        return 3"
   ]
  },
  {
   "cell_type": "code",
   "execution_count": 46,
   "id": "0e6d69a1",
   "metadata": {},
   "outputs": [
    {
     "data": {
      "text/plain": [
       "0        1\n",
       "1        1\n",
       "2        2\n",
       "3        3\n",
       "4        2\n",
       "        ..\n",
       "96578    3\n",
       "96579    2\n",
       "96580    1\n",
       "96581    2\n",
       "96582    2\n",
       "Name: negocio, Length: 96462, dtype: int64"
      ]
     },
     "execution_count": 46,
     "metadata": {},
     "output_type": "execute_result"
    }
   ],
   "source": [
    "data['negocio'] = data['negocio'].apply(negocio_bin)\n",
    "data['negocio']"
   ]
  },
  {
   "cell_type": "code",
   "execution_count": 48,
   "id": "d8a9527d",
   "metadata": {},
   "outputs": [
    {
     "data": {
      "text/plain": [
       "0        1\n",
       "1        1\n",
       "2        2\n",
       "3        3\n",
       "4        2\n",
       "        ..\n",
       "96578    3\n",
       "96579    2\n",
       "96580    1\n",
       "96581    2\n",
       "96582    2\n",
       "Name: negocio, Length: 96462, dtype: int32"
      ]
     },
     "execution_count": 48,
     "metadata": {},
     "output_type": "execute_result"
    }
   ],
   "source": [
    "data['negocio'] = data['negocio'].astype(str).astype(int)\n",
    "data['negocio']"
   ]
  },
  {
   "cell_type": "code",
   "execution_count": null,
   "id": "43c4d01e",
   "metadata": {},
   "outputs": [],
   "source": []
  }
 ],
 "metadata": {
  "kernelspec": {
   "display_name": "Python 3 (ipykernel)",
   "language": "python",
   "name": "python3"
  },
  "language_info": {
   "codemirror_mode": {
    "name": "ipython",
    "version": 3
   },
   "file_extension": ".py",
   "mimetype": "text/x-python",
   "name": "python",
   "nbconvert_exporter": "python",
   "pygments_lexer": "ipython3",
   "version": "3.9.12"
  }
 },
 "nbformat": 4,
 "nbformat_minor": 5
}
